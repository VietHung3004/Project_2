{
 "cells": [
  {
   "cell_type": "markdown",
   "id": "70c73f95",
   "metadata": {},
   "source": [
    "# Import Libraries 📚"
   ]
  },
  {
   "cell_type": "code",
   "execution_count": 64,
   "id": "030346f4",
   "metadata": {},
   "outputs": [],
   "source": [
    "import numpy as np\n",
    "import pandas as pd\n",
    "import matplotlib.pyplot as plt\n",
    "import seaborn as sns\n",
    "import warnings\n",
    "import joblib\n",
    "\n",
    "from sklearn.tree import DecisionTreeClassifier\n",
    "from sklearn.ensemble import RandomForestClassifier\n",
    "from sklearn.neighbors import KNeighborsClassifier\n",
    "from sklearn.naive_bayes import GaussianNB\n",
    "from xgboost import XGBClassifier\n",
    "\n",
    "from sklearn.model_selection import train_test_split, KFold, GridSearchCV\n",
    "from sklearn.preprocessing import StandardScaler, LabelEncoder\n",
    "from sklearn.metrics import accuracy_score, confusion_matrix, classification_report\n",
    "from imblearn.over_sampling import SMOTE, RandomOverSampler\n",
    "warnings.filterwarnings('ignore')"
   ]
  },
  {
   "cell_type": "markdown",
   "id": "846ad029",
   "metadata": {},
   "source": [
    "# Dataset Information ℹ️\n"
   ]
  },
  {
   "cell_type": "code",
   "execution_count": 65,
   "id": "2f8b1978",
   "metadata": {},
   "outputs": [
    {
     "data": {
      "text/html": [
       "<div>\n",
       "<style scoped>\n",
       "    .dataframe tbody tr th:only-of-type {\n",
       "        vertical-align: middle;\n",
       "    }\n",
       "\n",
       "    .dataframe tbody tr th {\n",
       "        vertical-align: top;\n",
       "    }\n",
       "\n",
       "    .dataframe thead th {\n",
       "        text-align: right;\n",
       "    }\n",
       "</style>\n",
       "<table border=\"1\" class=\"dataframe\">\n",
       "  <thead>\n",
       "    <tr style=\"text-align: right;\">\n",
       "      <th></th>\n",
       "      <th>GENDER</th>\n",
       "      <th>AGE</th>\n",
       "      <th>SMOKING</th>\n",
       "      <th>YELLOW_FINGERS</th>\n",
       "      <th>ANXIETY</th>\n",
       "      <th>PEER_PRESSURE</th>\n",
       "      <th>CHRONIC_DISEASE</th>\n",
       "      <th>FATIGUE</th>\n",
       "      <th>ALLERGY</th>\n",
       "      <th>WHEEZING</th>\n",
       "      <th>ALCOHOL_CONSUMING</th>\n",
       "      <th>COUGHING</th>\n",
       "      <th>SHORTNESS_OF_BREATH</th>\n",
       "      <th>SWALLOWING_DIFFICULTY</th>\n",
       "      <th>CHEST_PAIN</th>\n",
       "      <th>LUNG_CANCER</th>\n",
       "    </tr>\n",
       "  </thead>\n",
       "  <tbody>\n",
       "    <tr>\n",
       "      <th>0</th>\n",
       "      <td>M</td>\n",
       "      <td>65</td>\n",
       "      <td>1</td>\n",
       "      <td>1</td>\n",
       "      <td>1</td>\n",
       "      <td>2</td>\n",
       "      <td>2</td>\n",
       "      <td>1</td>\n",
       "      <td>2</td>\n",
       "      <td>2</td>\n",
       "      <td>2</td>\n",
       "      <td>2</td>\n",
       "      <td>2</td>\n",
       "      <td>2</td>\n",
       "      <td>1</td>\n",
       "      <td>NO</td>\n",
       "    </tr>\n",
       "    <tr>\n",
       "      <th>1</th>\n",
       "      <td>F</td>\n",
       "      <td>55</td>\n",
       "      <td>1</td>\n",
       "      <td>2</td>\n",
       "      <td>2</td>\n",
       "      <td>1</td>\n",
       "      <td>1</td>\n",
       "      <td>2</td>\n",
       "      <td>2</td>\n",
       "      <td>2</td>\n",
       "      <td>1</td>\n",
       "      <td>1</td>\n",
       "      <td>1</td>\n",
       "      <td>2</td>\n",
       "      <td>2</td>\n",
       "      <td>NO</td>\n",
       "    </tr>\n",
       "    <tr>\n",
       "      <th>2</th>\n",
       "      <td>F</td>\n",
       "      <td>78</td>\n",
       "      <td>2</td>\n",
       "      <td>2</td>\n",
       "      <td>1</td>\n",
       "      <td>1</td>\n",
       "      <td>1</td>\n",
       "      <td>2</td>\n",
       "      <td>1</td>\n",
       "      <td>2</td>\n",
       "      <td>1</td>\n",
       "      <td>1</td>\n",
       "      <td>2</td>\n",
       "      <td>1</td>\n",
       "      <td>1</td>\n",
       "      <td>YES</td>\n",
       "    </tr>\n",
       "    <tr>\n",
       "      <th>3</th>\n",
       "      <td>M</td>\n",
       "      <td>60</td>\n",
       "      <td>2</td>\n",
       "      <td>1</td>\n",
       "      <td>1</td>\n",
       "      <td>1</td>\n",
       "      <td>2</td>\n",
       "      <td>1</td>\n",
       "      <td>2</td>\n",
       "      <td>1</td>\n",
       "      <td>1</td>\n",
       "      <td>2</td>\n",
       "      <td>1</td>\n",
       "      <td>2</td>\n",
       "      <td>2</td>\n",
       "      <td>YES</td>\n",
       "    </tr>\n",
       "    <tr>\n",
       "      <th>4</th>\n",
       "      <td>F</td>\n",
       "      <td>80</td>\n",
       "      <td>1</td>\n",
       "      <td>1</td>\n",
       "      <td>2</td>\n",
       "      <td>1</td>\n",
       "      <td>1</td>\n",
       "      <td>2</td>\n",
       "      <td>1</td>\n",
       "      <td>2</td>\n",
       "      <td>1</td>\n",
       "      <td>1</td>\n",
       "      <td>1</td>\n",
       "      <td>1</td>\n",
       "      <td>2</td>\n",
       "      <td>NO</td>\n",
       "    </tr>\n",
       "    <tr>\n",
       "      <th>...</th>\n",
       "      <td>...</td>\n",
       "      <td>...</td>\n",
       "      <td>...</td>\n",
       "      <td>...</td>\n",
       "      <td>...</td>\n",
       "      <td>...</td>\n",
       "      <td>...</td>\n",
       "      <td>...</td>\n",
       "      <td>...</td>\n",
       "      <td>...</td>\n",
       "      <td>...</td>\n",
       "      <td>...</td>\n",
       "      <td>...</td>\n",
       "      <td>...</td>\n",
       "      <td>...</td>\n",
       "      <td>...</td>\n",
       "    </tr>\n",
       "    <tr>\n",
       "      <th>2995</th>\n",
       "      <td>F</td>\n",
       "      <td>71</td>\n",
       "      <td>2</td>\n",
       "      <td>1</td>\n",
       "      <td>1</td>\n",
       "      <td>2</td>\n",
       "      <td>2</td>\n",
       "      <td>1</td>\n",
       "      <td>1</td>\n",
       "      <td>1</td>\n",
       "      <td>1</td>\n",
       "      <td>2</td>\n",
       "      <td>1</td>\n",
       "      <td>1</td>\n",
       "      <td>2</td>\n",
       "      <td>NO</td>\n",
       "    </tr>\n",
       "    <tr>\n",
       "      <th>2996</th>\n",
       "      <td>F</td>\n",
       "      <td>75</td>\n",
       "      <td>1</td>\n",
       "      <td>2</td>\n",
       "      <td>1</td>\n",
       "      <td>1</td>\n",
       "      <td>1</td>\n",
       "      <td>2</td>\n",
       "      <td>2</td>\n",
       "      <td>2</td>\n",
       "      <td>2</td>\n",
       "      <td>1</td>\n",
       "      <td>1</td>\n",
       "      <td>2</td>\n",
       "      <td>1</td>\n",
       "      <td>NO</td>\n",
       "    </tr>\n",
       "    <tr>\n",
       "      <th>2997</th>\n",
       "      <td>F</td>\n",
       "      <td>62</td>\n",
       "      <td>2</td>\n",
       "      <td>2</td>\n",
       "      <td>2</td>\n",
       "      <td>1</td>\n",
       "      <td>2</td>\n",
       "      <td>2</td>\n",
       "      <td>2</td>\n",
       "      <td>2</td>\n",
       "      <td>1</td>\n",
       "      <td>1</td>\n",
       "      <td>2</td>\n",
       "      <td>2</td>\n",
       "      <td>2</td>\n",
       "      <td>YES</td>\n",
       "    </tr>\n",
       "    <tr>\n",
       "      <th>2998</th>\n",
       "      <td>M</td>\n",
       "      <td>30</td>\n",
       "      <td>1</td>\n",
       "      <td>1</td>\n",
       "      <td>2</td>\n",
       "      <td>2</td>\n",
       "      <td>2</td>\n",
       "      <td>2</td>\n",
       "      <td>2</td>\n",
       "      <td>2</td>\n",
       "      <td>2</td>\n",
       "      <td>1</td>\n",
       "      <td>2</td>\n",
       "      <td>1</td>\n",
       "      <td>2</td>\n",
       "      <td>YES</td>\n",
       "    </tr>\n",
       "    <tr>\n",
       "      <th>2999</th>\n",
       "      <td>M</td>\n",
       "      <td>40</td>\n",
       "      <td>1</td>\n",
       "      <td>2</td>\n",
       "      <td>2</td>\n",
       "      <td>1</td>\n",
       "      <td>1</td>\n",
       "      <td>1</td>\n",
       "      <td>2</td>\n",
       "      <td>2</td>\n",
       "      <td>2</td>\n",
       "      <td>1</td>\n",
       "      <td>1</td>\n",
       "      <td>1</td>\n",
       "      <td>1</td>\n",
       "      <td>YES</td>\n",
       "    </tr>\n",
       "  </tbody>\n",
       "</table>\n",
       "<p>3000 rows × 16 columns</p>\n",
       "</div>"
      ],
      "text/plain": [
       "     GENDER  AGE  SMOKING  YELLOW_FINGERS  ANXIETY  PEER_PRESSURE  \\\n",
       "0         M   65        1               1        1              2   \n",
       "1         F   55        1               2        2              1   \n",
       "2         F   78        2               2        1              1   \n",
       "3         M   60        2               1        1              1   \n",
       "4         F   80        1               1        2              1   \n",
       "...     ...  ...      ...             ...      ...            ...   \n",
       "2995      F   71        2               1        1              2   \n",
       "2996      F   75        1               2        1              1   \n",
       "2997      F   62        2               2        2              1   \n",
       "2998      M   30        1               1        2              2   \n",
       "2999      M   40        1               2        2              1   \n",
       "\n",
       "      CHRONIC_DISEASE  FATIGUE  ALLERGY  WHEEZING  ALCOHOL_CONSUMING  \\\n",
       "0                   2        1        2         2                  2   \n",
       "1                   1        2        2         2                  1   \n",
       "2                   1        2        1         2                  1   \n",
       "3                   2        1        2         1                  1   \n",
       "4                   1        2        1         2                  1   \n",
       "...               ...      ...      ...       ...                ...   \n",
       "2995                2        1        1         1                  1   \n",
       "2996                1        2        2         2                  2   \n",
       "2997                2        2        2         2                  1   \n",
       "2998                2        2        2         2                  2   \n",
       "2999                1        1        2         2                  2   \n",
       "\n",
       "      COUGHING  SHORTNESS_OF_BREATH  SWALLOWING_DIFFICULTY  CHEST_PAIN  \\\n",
       "0            2                    2                      2           1   \n",
       "1            1                    1                      2           2   \n",
       "2            1                    2                      1           1   \n",
       "3            2                    1                      2           2   \n",
       "4            1                    1                      1           2   \n",
       "...        ...                  ...                    ...         ...   \n",
       "2995         2                    1                      1           2   \n",
       "2996         1                    1                      2           1   \n",
       "2997         1                    2                      2           2   \n",
       "2998         1                    2                      1           2   \n",
       "2999         1                    1                      1           1   \n",
       "\n",
       "     LUNG_CANCER  \n",
       "0             NO  \n",
       "1             NO  \n",
       "2            YES  \n",
       "3            YES  \n",
       "4             NO  \n",
       "...          ...  \n",
       "2995          NO  \n",
       "2996          NO  \n",
       "2997         YES  \n",
       "2998         YES  \n",
       "2999         YES  \n",
       "\n",
       "[3000 rows x 16 columns]"
      ]
     },
     "execution_count": 65,
     "metadata": {},
     "output_type": "execute_result"
    }
   ],
   "source": [
    "df = pd.read_csv(\"dataset.csv\")\n",
    "df"
   ]
  },
  {
   "cell_type": "markdown",
   "id": "94e708a0",
   "metadata": {},
   "source": [
    "# 🔑 Các Đặc Trưng Chính:\n",
    "Giới tính (GENDER): Giới tính của người tham gia (M: Nam, F: Nữ).\n",
    "\n",
    "Tuổi (AGE): Tuổi của người tham gia khảo sát.\n",
    "\n",
    "Hút thuốc (SMOKING): Mức độ hút thuốc (1: Có, 2: Không).\n",
    "\n",
    "Ngón tay bị vàng (YELLOW_FINGERS): Biểu hiện của việc hút thuốc nhiều.\n",
    "\n",
    "Lo âu (ANXIETY): Tình trạng lo âu của người được khảo sát.\n",
    "\n",
    "Áp lực từ bạn bè (PEER_PRESSURE): Mức độ bị ảnh hưởng bởi người xung quanh trong thói quen hút thuốc.\n",
    "\n",
    "Bệnh mãn tính (CHRONIC_DISEASE): Tình trạng có bệnh nền mãn tính (1: Có, 2: Không).\n",
    "\n",
    "Mệt mỏi (FATIGUE): Cảm giác mệt mỏi thường xuyên.\n",
    "\n",
    "Dị ứng (ALLERGY): Có tiền sử bị dị ứng.\n",
    "\n",
    "Thở khò khè (WHEEZING): Dấu hiệu của các vấn đề hô hấp.\n",
    "\n",
    "Sử dụng rượu bia (ALCOHOL_CONSUMING): Có uống rượu/bia thường xuyên không.\n",
    "\n",
    "Ho kéo dài (COUGHING): Có triệu chứng ho mãn tính.\n",
    "\n",
    "Khó thở (SHORTNESS_OF_BREATH): Triệu chứng thở khó, gấp.\n",
    "\n",
    "Khó nuốt (SWALLOWING_DIFFICULTY): Gặp khó khăn khi nuốt thức ăn hoặc nước.\n",
    "\n",
    "Đau ngực (CHEST_PAIN): Triệu chứng đau tức vùng ngực.\n",
    "\n",
    "# 🎯 Biến Mục Tiêu: Khả năng mắc ung thư phổi (LUNG_CANCER)\n",
    "YES: Người này có khả năng cao mắc ung thư phổi.\n",
    "\n",
    "NO: Không có dấu hiệu đáng kể liên quan đến ung thư phổi."
   ]
  },
  {
   "cell_type": "code",
   "execution_count": 78,
   "id": "a2a0df34",
   "metadata": {},
   "outputs": [
    {
     "data": {
      "text/html": [
       "<div>\n",
       "<style scoped>\n",
       "    .dataframe tbody tr th:only-of-type {\n",
       "        vertical-align: middle;\n",
       "    }\n",
       "\n",
       "    .dataframe tbody tr th {\n",
       "        vertical-align: top;\n",
       "    }\n",
       "\n",
       "    .dataframe thead th {\n",
       "        text-align: right;\n",
       "    }\n",
       "</style>\n",
       "<table border=\"1\" class=\"dataframe\">\n",
       "  <thead>\n",
       "    <tr style=\"text-align: right;\">\n",
       "      <th></th>\n",
       "      <th>count</th>\n",
       "      <th>mean</th>\n",
       "      <th>std</th>\n",
       "      <th>min</th>\n",
       "      <th>25%</th>\n",
       "      <th>50%</th>\n",
       "      <th>75%</th>\n",
       "      <th>max</th>\n",
       "    </tr>\n",
       "  </thead>\n",
       "  <tbody>\n",
       "    <tr>\n",
       "      <th>AGE</th>\n",
       "      <td>3000.0</td>\n",
       "      <td>55.169000</td>\n",
       "      <td>14.723746</td>\n",
       "      <td>30.0</td>\n",
       "      <td>42.0</td>\n",
       "      <td>55.0</td>\n",
       "      <td>68.0</td>\n",
       "      <td>80.0</td>\n",
       "    </tr>\n",
       "    <tr>\n",
       "      <th>SMOKING</th>\n",
       "      <td>3000.0</td>\n",
       "      <td>1.491000</td>\n",
       "      <td>0.500002</td>\n",
       "      <td>1.0</td>\n",
       "      <td>1.0</td>\n",
       "      <td>1.0</td>\n",
       "      <td>2.0</td>\n",
       "      <td>2.0</td>\n",
       "    </tr>\n",
       "    <tr>\n",
       "      <th>YELLOW_FINGERS</th>\n",
       "      <td>3000.0</td>\n",
       "      <td>1.514000</td>\n",
       "      <td>0.499887</td>\n",
       "      <td>1.0</td>\n",
       "      <td>1.0</td>\n",
       "      <td>2.0</td>\n",
       "      <td>2.0</td>\n",
       "      <td>2.0</td>\n",
       "    </tr>\n",
       "    <tr>\n",
       "      <th>ANXIETY</th>\n",
       "      <td>3000.0</td>\n",
       "      <td>1.494000</td>\n",
       "      <td>0.500047</td>\n",
       "      <td>1.0</td>\n",
       "      <td>1.0</td>\n",
       "      <td>1.0</td>\n",
       "      <td>2.0</td>\n",
       "      <td>2.0</td>\n",
       "    </tr>\n",
       "    <tr>\n",
       "      <th>PEER_PRESSURE</th>\n",
       "      <td>3000.0</td>\n",
       "      <td>1.499000</td>\n",
       "      <td>0.500082</td>\n",
       "      <td>1.0</td>\n",
       "      <td>1.0</td>\n",
       "      <td>1.0</td>\n",
       "      <td>2.0</td>\n",
       "      <td>2.0</td>\n",
       "    </tr>\n",
       "    <tr>\n",
       "      <th>CHRONIC_DISEASE</th>\n",
       "      <td>3000.0</td>\n",
       "      <td>1.509667</td>\n",
       "      <td>0.499990</td>\n",
       "      <td>1.0</td>\n",
       "      <td>1.0</td>\n",
       "      <td>2.0</td>\n",
       "      <td>2.0</td>\n",
       "      <td>2.0</td>\n",
       "    </tr>\n",
       "    <tr>\n",
       "      <th>FATIGUE</th>\n",
       "      <td>3000.0</td>\n",
       "      <td>1.489667</td>\n",
       "      <td>0.499977</td>\n",
       "      <td>1.0</td>\n",
       "      <td>1.0</td>\n",
       "      <td>1.0</td>\n",
       "      <td>2.0</td>\n",
       "      <td>2.0</td>\n",
       "    </tr>\n",
       "    <tr>\n",
       "      <th>ALLERGY</th>\n",
       "      <td>3000.0</td>\n",
       "      <td>1.506667</td>\n",
       "      <td>0.500039</td>\n",
       "      <td>1.0</td>\n",
       "      <td>1.0</td>\n",
       "      <td>2.0</td>\n",
       "      <td>2.0</td>\n",
       "      <td>2.0</td>\n",
       "    </tr>\n",
       "    <tr>\n",
       "      <th>WHEEZING</th>\n",
       "      <td>3000.0</td>\n",
       "      <td>1.497333</td>\n",
       "      <td>0.500076</td>\n",
       "      <td>1.0</td>\n",
       "      <td>1.0</td>\n",
       "      <td>1.0</td>\n",
       "      <td>2.0</td>\n",
       "      <td>2.0</td>\n",
       "    </tr>\n",
       "    <tr>\n",
       "      <th>ALCOHOL_CONSUMING</th>\n",
       "      <td>3000.0</td>\n",
       "      <td>1.491333</td>\n",
       "      <td>0.500008</td>\n",
       "      <td>1.0</td>\n",
       "      <td>1.0</td>\n",
       "      <td>1.0</td>\n",
       "      <td>2.0</td>\n",
       "      <td>2.0</td>\n",
       "    </tr>\n",
       "    <tr>\n",
       "      <th>COUGHING</th>\n",
       "      <td>3000.0</td>\n",
       "      <td>1.510667</td>\n",
       "      <td>0.499970</td>\n",
       "      <td>1.0</td>\n",
       "      <td>1.0</td>\n",
       "      <td>2.0</td>\n",
       "      <td>2.0</td>\n",
       "      <td>2.0</td>\n",
       "    </tr>\n",
       "    <tr>\n",
       "      <th>SHORTNESS_OF_BREATH</th>\n",
       "      <td>3000.0</td>\n",
       "      <td>1.488000</td>\n",
       "      <td>0.499939</td>\n",
       "      <td>1.0</td>\n",
       "      <td>1.0</td>\n",
       "      <td>1.0</td>\n",
       "      <td>2.0</td>\n",
       "      <td>2.0</td>\n",
       "    </tr>\n",
       "    <tr>\n",
       "      <th>SWALLOWING_DIFFICULTY</th>\n",
       "      <td>3000.0</td>\n",
       "      <td>1.489667</td>\n",
       "      <td>0.499977</td>\n",
       "      <td>1.0</td>\n",
       "      <td>1.0</td>\n",
       "      <td>1.0</td>\n",
       "      <td>2.0</td>\n",
       "      <td>2.0</td>\n",
       "    </tr>\n",
       "    <tr>\n",
       "      <th>CHEST_PAIN</th>\n",
       "      <td>3000.0</td>\n",
       "      <td>1.498667</td>\n",
       "      <td>0.500082</td>\n",
       "      <td>1.0</td>\n",
       "      <td>1.0</td>\n",
       "      <td>1.0</td>\n",
       "      <td>2.0</td>\n",
       "      <td>2.0</td>\n",
       "    </tr>\n",
       "  </tbody>\n",
       "</table>\n",
       "</div>"
      ],
      "text/plain": [
       "                        count       mean        std   min   25%   50%   75%  \\\n",
       "AGE                    3000.0  55.169000  14.723746  30.0  42.0  55.0  68.0   \n",
       "SMOKING                3000.0   1.491000   0.500002   1.0   1.0   1.0   2.0   \n",
       "YELLOW_FINGERS         3000.0   1.514000   0.499887   1.0   1.0   2.0   2.0   \n",
       "ANXIETY                3000.0   1.494000   0.500047   1.0   1.0   1.0   2.0   \n",
       "PEER_PRESSURE          3000.0   1.499000   0.500082   1.0   1.0   1.0   2.0   \n",
       "CHRONIC_DISEASE        3000.0   1.509667   0.499990   1.0   1.0   2.0   2.0   \n",
       "FATIGUE                3000.0   1.489667   0.499977   1.0   1.0   1.0   2.0   \n",
       "ALLERGY                3000.0   1.506667   0.500039   1.0   1.0   2.0   2.0   \n",
       "WHEEZING               3000.0   1.497333   0.500076   1.0   1.0   1.0   2.0   \n",
       "ALCOHOL_CONSUMING      3000.0   1.491333   0.500008   1.0   1.0   1.0   2.0   \n",
       "COUGHING               3000.0   1.510667   0.499970   1.0   1.0   2.0   2.0   \n",
       "SHORTNESS_OF_BREATH    3000.0   1.488000   0.499939   1.0   1.0   1.0   2.0   \n",
       "SWALLOWING_DIFFICULTY  3000.0   1.489667   0.499977   1.0   1.0   1.0   2.0   \n",
       "CHEST_PAIN             3000.0   1.498667   0.500082   1.0   1.0   1.0   2.0   \n",
       "\n",
       "                        max  \n",
       "AGE                    80.0  \n",
       "SMOKING                 2.0  \n",
       "YELLOW_FINGERS          2.0  \n",
       "ANXIETY                 2.0  \n",
       "PEER_PRESSURE           2.0  \n",
       "CHRONIC_DISEASE         2.0  \n",
       "FATIGUE                 2.0  \n",
       "ALLERGY                 2.0  \n",
       "WHEEZING                2.0  \n",
       "ALCOHOL_CONSUMING       2.0  \n",
       "COUGHING                2.0  \n",
       "SHORTNESS_OF_BREATH     2.0  \n",
       "SWALLOWING_DIFFICULTY   2.0  \n",
       "CHEST_PAIN              2.0  "
      ]
     },
     "execution_count": 78,
     "metadata": {},
     "output_type": "execute_result"
    }
   ],
   "source": [
    "df.describe().T"
   ]
  },
  {
   "cell_type": "code",
   "execution_count": 67,
   "id": "eb1fe2dc",
   "metadata": {},
   "outputs": [
    {
     "name": "stdout",
     "output_type": "stream",
     "text": [
      "<class 'pandas.core.frame.DataFrame'>\n",
      "RangeIndex: 3000 entries, 0 to 2999\n",
      "Data columns (total 16 columns):\n",
      " #   Column                 Non-Null Count  Dtype \n",
      "---  ------                 --------------  ----- \n",
      " 0   GENDER                 3000 non-null   object\n",
      " 1   AGE                    3000 non-null   int64 \n",
      " 2   SMOKING                3000 non-null   int64 \n",
      " 3   YELLOW_FINGERS         3000 non-null   int64 \n",
      " 4   ANXIETY                3000 non-null   int64 \n",
      " 5   PEER_PRESSURE          3000 non-null   int64 \n",
      " 6   CHRONIC_DISEASE        3000 non-null   int64 \n",
      " 7   FATIGUE                3000 non-null   int64 \n",
      " 8   ALLERGY                3000 non-null   int64 \n",
      " 9   WHEEZING               3000 non-null   int64 \n",
      " 10  ALCOHOL_CONSUMING      3000 non-null   int64 \n",
      " 11  COUGHING               3000 non-null   int64 \n",
      " 12  SHORTNESS_OF_BREATH    3000 non-null   int64 \n",
      " 13  SWALLOWING_DIFFICULTY  3000 non-null   int64 \n",
      " 14  CHEST_PAIN             3000 non-null   int64 \n",
      " 15  LUNG_CANCER            3000 non-null   object\n",
      "dtypes: int64(14), object(2)\n",
      "memory usage: 375.1+ KB\n"
     ]
    }
   ],
   "source": [
    "df.info()"
   ]
  },
  {
   "cell_type": "code",
   "execution_count": 68,
   "id": "f20ad558",
   "metadata": {},
   "outputs": [
    {
     "data": {
      "text/plain": [
       "GENDER                   0\n",
       "AGE                      0\n",
       "SMOKING                  0\n",
       "YELLOW_FINGERS           0\n",
       "ANXIETY                  0\n",
       "PEER_PRESSURE            0\n",
       "CHRONIC_DISEASE          0\n",
       "FATIGUE                  0\n",
       "ALLERGY                  0\n",
       "WHEEZING                 0\n",
       "ALCOHOL_CONSUMING        0\n",
       "COUGHING                 0\n",
       "SHORTNESS_OF_BREATH      0\n",
       "SWALLOWING_DIFFICULTY    0\n",
       "CHEST_PAIN               0\n",
       "LUNG_CANCER              0\n",
       "dtype: int64"
      ]
     },
     "execution_count": 68,
     "metadata": {},
     "output_type": "execute_result"
    }
   ],
   "source": [
    "df.isnull().sum()"
   ]
  },
  {
   "cell_type": "code",
   "execution_count": 69,
   "id": "2dabed16",
   "metadata": {},
   "outputs": [
    {
     "data": {
      "text/plain": [
       "np.int64(2)"
      ]
     },
     "execution_count": 69,
     "metadata": {},
     "output_type": "execute_result"
    }
   ],
   "source": [
    "df.duplicated().sum()"
   ]
  },
  {
   "cell_type": "markdown",
   "id": "fd77f54f",
   "metadata": {},
   "source": [
    "# Exploratoty Data Analysis (EDA) 📊"
   ]
  },
  {
   "cell_type": "code",
   "execution_count": 70,
   "id": "b35bd4c7",
   "metadata": {},
   "outputs": [
    {
     "data": {
      "image/png": "[encoded data removed]",
      "text/plain": [
       "<Figure size 640x480 with 1 Axes>"
      ]
     },
     "metadata": {},
     "output_type": "display_data"
    }
   ],
   "source": [
    "target = df['LUNG_CANCER'].value_counts()\n",
    "plt.Figure(figsize=(8,8))\n",
    "plt.pie(target, labels= target.index,autopct='%1.1f%%')\n",
    "plt.title('Distribution of Label')\n",
    "plt.show()"
   ]
  },
  {
   "cell_type": "markdown",
   "id": "ac6f6df9",
   "metadata": {},
   "source": [
    "# Training Machine Learning Models 🤖"
   ]
  },
  {
   "cell_type": "code",
   "execution_count": 71,
   "id": "fbb35579",
   "metadata": {},
   "outputs": [],
   "source": [
    "X = df.drop(columns=[\"LUNG_CANCER\"])\n",
    "y = df[\"LUNG_CANCER\"]\n",
    "label_encoder = LabelEncoder()\n",
    "X['GENDER'] = label_encoder.fit_transform(X['GENDER'])\n",
    "y = label_encoder.fit_transform(y)\n",
    "\n",
    "X_train, X_test, y_train, y_test = train_test_split(X, y, test_size=0.2, random_state=42)"
   ]
  },
  {
   "cell_type": "code",
   "execution_count": 72,
   "id": "731b0f28",
   "metadata": {},
   "outputs": [],
   "source": [
    "def evolution_models(model, X_test, y_test):\n",
    "    y_pred = model.predict(X_test)\n",
    "    print(\"Classification Report:\")\n",
    "    print(classification_report(y_test, y_pred))\n",
    "    print(\"------------------------------------------\")\n",
    "\n",
    "    labels = df[\"LUNG_CANCER\"].unique()\n",
    "    labels = list(labels)\n",
    "\n",
    "    # Caculater to Confution Matrix\n",
    "    cm = confusion_matrix(y_test, y_pred)\n",
    "    sns.heatmap(cm, annot=True, fmt=\"d\", cmap=\"Blues\", xticklabels=labels, yticklabels=labels)\n",
    "    plt.title(\"Confusion matrix heatmap:\")\n",
    "    plt.xlabel(\"Actual labels\")\n",
    "    plt.ylabel(\"Predicted labels\")\n",
    "    plt.show()"
   ]
  },
  {
   "cell_type": "markdown",
   "id": "9d5f57db",
   "metadata": {},
   "source": [
    "# Decision Tree 🌳\n"
   ]
  },
  {
   "cell_type": "code",
   "execution_count": 73,
   "id": "ff925345",
   "metadata": {},
   "outputs": [
    {
     "name": "stdout",
     "output_type": "stream",
     "text": [
      "Classification Report:\n",
      "              precision    recall  f1-score   support\n",
      "\n",
      "           0       0.48      0.49      0.49       302\n",
      "           1       0.47      0.46      0.46       298\n",
      "\n",
      "    accuracy                           0.47       600\n",
      "   macro avg       0.47      0.47      0.47       600\n",
      "weighted avg       0.47      0.47      0.47       600\n",
      "\n",
      "------------------------------------------\n"
     ]
    },
    {
     "data": {
      "image/png": "[encoded data removed]",
      "text/plain": [
       "<Figure size 640x480 with 2 Axes>"
      ]
     },
     "metadata": {},
     "output_type": "display_data"
    }
   ],
   "source": [
    "tree = DecisionTreeClassifier()\n",
    "tree_model = tree.fit(X_train,y_train)\n",
    "evolution_models(tree_model, X_test, y_test)"
   ]
  },
  {
   "cell_type": "markdown",
   "id": "40818212",
   "metadata": {},
   "source": [
    "# Random Forest 🌲🌲🌲"
   ]
  },
  {
   "cell_type": "code",
   "execution_count": 74,
   "id": "27c5fbf7",
   "metadata": {},
   "outputs": [
    {
     "name": "stdout",
     "output_type": "stream",
     "text": [
      "Classification Report:\n",
      "              precision    recall  f1-score   support\n",
      "\n",
      "           0       0.51      0.48      0.49       302\n",
      "           1       0.50      0.54      0.52       298\n",
      "\n",
      "    accuracy                           0.51       600\n",
      "   macro avg       0.51      0.51      0.51       600\n",
      "weighted avg       0.51      0.51      0.51       600\n",
      "\n",
      "------------------------------------------\n"
     ]
    },
    {
     "data": {
      "image/png": "[encoded data removed]",
      "text/plain": [
       "<Figure size 640x480 with 2 Axes>"
      ]
     },
     "metadata": {},
     "output_type": "display_data"
    }
   ],
   "source": [
    "random_forest = RandomForestClassifier()\n",
    "forest_model = random_forest.fit(X_train, y_train)\n",
    "evolution_models(forest_model,X_test, y_test)"
   ]
  },
  {
   "cell_type": "markdown",
   "id": "2320df8b",
   "metadata": {},
   "source": [
    "# K - Nearest Neighbor 🏡"
   ]
  },
  {
   "cell_type": "code",
   "execution_count": 75,
   "id": "fcf04856",
   "metadata": {},
   "outputs": [
    {
     "name": "stdout",
     "output_type": "stream",
     "text": [
      "Classification Report:\n",
      "              precision    recall  f1-score   support\n",
      "\n",
      "           0       0.50      0.49      0.49       302\n",
      "           1       0.49      0.51      0.50       298\n",
      "\n",
      "    accuracy                           0.50       600\n",
      "   macro avg       0.50      0.50      0.50       600\n",
      "weighted avg       0.50      0.50      0.50       600\n",
      "\n",
      "------------------------------------------\n"
     ]
    },
    {
     "data": {
      "image/png": "[encoded data removed]",
      "text/plain": [
       "<Figure size 640x480 with 2 Axes>"
      ]
     },
     "metadata": {},
     "output_type": "display_data"
    }
   ],
   "source": [
    "knn = KNeighborsClassifier()\n",
    "knn_model = knn.fit(X_train, y_train)\n",
    "evolution_models(knn_model,X_test, y_test)"
   ]
  },
  {
   "cell_type": "markdown",
   "id": "5f5f640f",
   "metadata": {},
   "source": [
    "# Naive Bayes 🎲"
   ]
  },
  {
   "cell_type": "code",
   "execution_count": 76,
   "id": "a0e68fbe",
   "metadata": {},
   "outputs": [
    {
     "name": "stdout",
     "output_type": "stream",
     "text": [
      "Classification Report:\n",
      "              precision    recall  f1-score   support\n",
      "\n",
      "           0       0.54      0.48      0.51       302\n",
      "           1       0.52      0.58      0.55       298\n",
      "\n",
      "    accuracy                           0.53       600\n",
      "   macro avg       0.53      0.53      0.53       600\n",
      "weighted avg       0.53      0.53      0.53       600\n",
      "\n",
      "------------------------------------------\n"
     ]
    },
    {
     "data": {
      "image/png": "[encoded data removed]",
      "text/plain": [
       "<Figure size 640x480 with 2 Axes>"
      ]
     },
     "metadata": {},
     "output_type": "display_data"
    }
   ],
   "source": [
    "bayes = GaussianNB()\n",
    "bayes_model = bayes.fit(X_train, y_train)\n",
    "evolution_models(bayes_model, X_test, y_test)"
   ]
  },
  {
   "cell_type": "markdown",
   "id": "6ab4db56",
   "metadata": {},
   "source": [
    "# Extreme Gradient Boosting 🚀"
   ]
  },
  {
   "cell_type": "code",
   "execution_count": 77,
   "id": "d2942683",
   "metadata": {},
   "outputs": [
    {
     "name": "stdout",
     "output_type": "stream",
     "text": [
      "Classification Report:\n",
      "              precision    recall  f1-score   support\n",
      "\n",
      "           0       0.49      0.45      0.47       302\n",
      "           1       0.49      0.53      0.51       298\n",
      "\n",
      "    accuracy                           0.49       600\n",
      "   macro avg       0.49      0.49      0.49       600\n",
      "weighted avg       0.49      0.49      0.49       600\n",
      "\n",
      "------------------------------------------\n"
     ]
    },
    {
     "data": {
      "image/png": "[encoded data removed]",
      "text/plain": [
       "<Figure size 640x480 with 2 Axes>"
      ]
     },
     "metadata": {},
     "output_type": "display_data"
    }
   ],
   "source": [
    "xgb = XGBClassifier()\n",
    "xgb_model = xgb.fit(X_train, y_train)\n",
    "evolution_models(xgb_model,X_test, y_test)"
   ]
  },
  {
   "cell_type": "markdown",
   "id": "baf749f4",
   "metadata": {},
   "source": []
  }
 ],
 "metadata": {
  "kernelspec": {
   "display_name": "Python 3",
   "language": "python",
   "name": "python3"
  },
  "language_info": {
   "codemirror_mode": {
    "name": "ipython",
    "version": 3
   },
   "file_extension": ".py",
   "mimetype": "text/x-python",
   "name": "python",
   "nbconvert_exporter": "python",
   "pygments_lexer": "ipython3",
   "version": "3.13.3"
  }
 },
 "nbformat": 4,
 "nbformat_minor": 5
}
