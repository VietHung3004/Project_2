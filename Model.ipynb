{
 "cells": [
  {
   "cell_type": "markdown",
   "id": "70c73f95",
   "metadata": {},
   "source": [
    "# Import Libraries 📚"
   ]
  },
  {
   "cell_type": "code",
   "execution_count": 2,
   "id": "030346f4",
   "metadata": {},
   "outputs": [
    {
     "ename": "ModuleNotFoundError",
     "evalue": "No module named 'pandas'",
     "output_type": "error",
     "traceback": [
      "\u001b[31m---------------------------------------------------------------------------\u001b[39m",
      "\u001b[31mModuleNotFoundError\u001b[39m                       Traceback (most recent call last)",
      "\u001b[36mCell\u001b[39m\u001b[36m \u001b[39m\u001b[32mIn[2]\u001b[39m\u001b[32m, line 2\u001b[39m\n\u001b[32m      1\u001b[39m \u001b[38;5;28;01mimport\u001b[39;00m\u001b[38;5;250m \u001b[39m\u001b[34;01mnumpy\u001b[39;00m\u001b[38;5;250m \u001b[39m\u001b[38;5;28;01mas\u001b[39;00m\u001b[38;5;250m \u001b[39m\u001b[34;01mnp\u001b[39;00m\n\u001b[32m----> \u001b[39m\u001b[32m2\u001b[39m \u001b[38;5;28;01mimport\u001b[39;00m\u001b[38;5;250m \u001b[39m\u001b[34;01mpandas\u001b[39;00m\u001b[38;5;250m \u001b[39m\u001b[38;5;28;01mas\u001b[39;00m\u001b[38;5;250m \u001b[39m\u001b[34;01mpd\u001b[39;00m\n\u001b[32m      3\u001b[39m \u001b[38;5;28;01mimport\u001b[39;00m\u001b[38;5;250m \u001b[39m\u001b[34;01mmatplotlib\u001b[39;00m\u001b[34;01m.\u001b[39;00m\u001b[34;01mpyplot\u001b[39;00m\u001b[38;5;250m \u001b[39m\u001b[38;5;28;01mas\u001b[39;00m\u001b[38;5;250m \u001b[39m\u001b[34;01mplt\u001b[39;00m\n\u001b[32m      4\u001b[39m \u001b[38;5;28;01mimport\u001b[39;00m\u001b[38;5;250m \u001b[39m\u001b[34;01mseaborn\u001b[39;00m\u001b[38;5;250m \u001b[39m\u001b[38;5;28;01mas\u001b[39;00m\u001b[38;5;250m \u001b[39m\u001b[34;01msns\u001b[39;00m\n",
      "\u001b[31mModuleNotFoundError\u001b[39m: No module named 'pandas'"
     ]
    }
   ],
   "source": [
    "import numpy as np\n",
    "import pandas as pd\n",
    "import matplotlib.pyplot as plt\n",
    "import seaborn as sns\n",
    "import warnings\n",
    "import joblib\n",
    "\n",
    "from sklearn.tree import DecisionTreeClassifier\n",
    "from sklearn.ensemble import RandomForestClassifier\n",
    "from sklearn.neighbors import KNeighborsClassifier\n",
    "from sklearn.naive_bayes import GaussianNB\n",
    "from xgboost import XGBClassifier\n",
    "\n",
    "from sklearn.model_selection import train_test_split, KFold, GridSearchCV\n",
    "from sklearn.preprocessing import StandardScaler, LabelEncoder\n",
    "from sklearn.metrics import accuracy_score, confusion_matrix, classification_report\n",
    "from imblearn.over_sampling import SMOTE, RandomOverSampler\n",
    "warnings.filterwarnings('ignore')"
   ]
  },
  {
   "cell_type": "markdown",
   "id": "846ad029",
   "metadata": {},
   "source": [
    "# Dataset Information ℹ️\n"
   ]
  },
  {
   "cell_type": "code",
   "execution_count": null,
   "id": "2f8b1978",
   "metadata": {},
   "outputs": [],
   "source": [
    "df = pd.read_csv(\"dataset.csv\")\n",
    "df"
   ]
  },
  {
   "cell_type": "markdown",
   "id": "94e708a0",
   "metadata": {},
   "source": [
    "# 🔑 Các Đặc Trưng Chính:\n",
    "Giới tính (GENDER): Giới tính của người tham gia (M: Nam, F: Nữ).\n",
    "\n",
    "Tuổi (AGE): Tuổi của người tham gia khảo sát.\n",
    "\n",
    "Hút thuốc (SMOKING): Mức độ hút thuốc (1: Có, 2: Không).\n",
    "\n",
    "Ngón tay bị vàng (YELLOW_FINGERS): Biểu hiện của việc hút thuốc nhiều.\n",
    "\n",
    "Lo âu (ANXIETY): Tình trạng lo âu của người được khảo sát.\n",
    "\n",
    "Áp lực từ bạn bè (PEER_PRESSURE): Mức độ bị ảnh hưởng bởi người xung quanh trong thói quen hút thuốc.\n",
    "\n",
    "Bệnh mãn tính (CHRONIC_DISEASE): Tình trạng có bệnh nền mãn tính (1: Có, 2: Không).\n",
    "\n",
    "Mệt mỏi (FATIGUE): Cảm giác mệt mỏi thường xuyên.\n",
    "\n",
    "Dị ứng (ALLERGY): Có tiền sử bị dị ứng.\n",
    "\n",
    "Thở khò khè (WHEEZING): Dấu hiệu của các vấn đề hô hấp.\n",
    "\n",
    "Sử dụng rượu bia (ALCOHOL_CONSUMING): Có uống rượu/bia thường xuyên không.\n",
    "\n",
    "Ho kéo dài (COUGHING): Có triệu chứng ho mãn tính.\n",
    "\n",
    "Khó thở (SHORTNESS_OF_BREATH): Triệu chứng thở khó, gấp.\n",
    "\n",
    "Khó nuốt (SWALLOWING_DIFFICULTY): Gặp khó khăn khi nuốt thức ăn hoặc nước.\n",
    "\n",
    "Đau ngực (CHEST_PAIN): Triệu chứng đau tức vùng ngực.\n",
    "\n",
    "# 🎯 Biến Mục Tiêu: Khả năng mắc ung thư phổi (LUNG_CANCER)\n",
    "YES: Người này có khả năng cao mắc ung thư phổi.\n",
    "\n",
    "NO: Không có dấu hiệu đáng kể liên quan đến ung thư phổi."
   ]
  },
  {
   "cell_type": "code",
   "execution_count": null,
   "id": "a2a0df34",
   "metadata": {},
   "outputs": [],
   "source": [
    "df.describe().T"
   ]
  },
  {
   "cell_type": "code",
   "execution_count": null,
   "id": "eb1fe2dc",
   "metadata": {},
   "outputs": [],
   "source": [
    "df.info()"
   ]
  },
  {
   "cell_type": "code",
   "execution_count": null,
   "id": "713d2889",
   "metadata": {},
   "outputs": [],
   "source": [
    "encode = LabelEncoder()\n",
    "df['GENDER'] = encode.fit_transform(df['GENDER'])\n",
    "df['Lung_C'] = encode.fit_transform(df['GENDER'])"
   ]
  },
  {
   "cell_type": "markdown",
   "id": "fd77f54f",
   "metadata": {},
   "source": [
    "# Exploratoty Data Analysis (EDA) 📊"
   ]
  },
  {
   "cell_type": "code",
   "execution_count": null,
   "id": "b35bd4c7",
   "metadata": {},
   "outputs": [],
   "source": [
    "target = df['LUNG_CANCER'].value_counts()\n",
    "plt.Figure(figsize=(8,8))\n",
    "plt.pie(target, labels= target.index,autopct='%1.1f%%')\n",
    "plt.title('Distribution of Label')\n",
    "plt.show()"
   ]
  },
  {
   "cell_type": "markdown",
   "id": "ac6f6df9",
   "metadata": {},
   "source": [
    "<!-- # Training Machine Learning Models 🤖 -->"
   ]
  }
 ],
 "metadata": {
  "kernelspec": {
   "display_name": ".venv",
   "language": "python",
   "name": "python3"
  },
  "language_info": {
   "codemirror_mode": {
    "name": "ipython",
    "version": 3
   },
   "file_extension": ".py",
   "mimetype": "text/x-python",
   "name": "python",
   "nbconvert_exporter": "python",
   "pygments_lexer": "ipython3",
   "version": "3.11.9"
  }
 },
 "nbformat": 4,
 "nbformat_minor": 5
}
